{
 "cells": [
  {
   "cell_type": "markdown",
   "metadata": {},
   "source": [
    "## Creating Vector Store in Azure OpenAI / AI Studios"
   ]
  },
  {
   "cell_type": "markdown",
   "metadata": {},
   "source": [
    "As confirmed in Azure OpenAI [documentation](https://learn.microsoft.com/en-us/azure/ai-services/openai/how-to/assistant), the new **Vector Store** object now supports up to 10,000 files.\n",
    "\n",
    "The process of files upload requires phased approach:\n",
    "- Up to **100 files** during initial Vector Store setup;\n",
    "- Then up to **500 files** per each next batch."
   ]
  },
  {
   "cell_type": "markdown",
   "metadata": {},
   "source": [
    "### Pre-requisites"
   ]
  },
  {
   "cell_type": "code",
   "execution_count": 1,
   "metadata": {},
   "outputs": [],
   "source": [
    "# Importing required packages\n",
    "from openai import AzureOpenAI\n",
    "import time\n",
    "import os"
   ]
  },
  {
   "cell_type": "code",
   "execution_count": 2,
   "metadata": {},
   "outputs": [],
   "source": [
    "# Extracting environment variables\n",
    "AOAI_API_BASE = os.getenv(\"AZURE_OPENAI_API_BASE\")\n",
    "AOAI_API_VERSION = os.getenv(\"AZURE_OPENAI_API_VERSION\")\n",
    "AOAI_API_KEY = os.getenv(\"AZURE_OPENAI_API_KEY\")"
   ]
  },
  {
   "cell_type": "markdown",
   "metadata": {},
   "source": [
    "### Generating test files"
   ]
  },
  {
   "cell_type": "code",
   "execution_count": 3,
   "metadata": {},
   "outputs": [],
   "source": [
    "# Creating local folders\n",
    "NUMBER_OF_FOLDERS = 3\n",
    "\n",
    "for i in range(NUMBER_OF_FOLDERS):\n",
    "    folder = f\"folder{i+1}\"\n",
    "    if not os.path.exists(folder):\n",
    "        os.makedirs(folder)"
   ]
  },
  {
   "cell_type": "code",
   "execution_count": 4,
   "metadata": {},
   "outputs": [
    {
     "name": "stdout",
     "output_type": "stream",
     "text": [
      "Generated 100 files in folder1\n",
      "Generated 500 files in folder2\n",
      "Generated 500 files in folder3\n"
     ]
    }
   ],
   "source": [
    "# Generating text files: 100 files in the first folder, 500 files in all other folders\n",
    "FIRST_FOLDER_FILES = 100\n",
    "OTHER_FOLDERS_FILES = 500\n",
    "\n",
    "for i in range(NUMBER_OF_FOLDERS):\n",
    "    folder = f\"folder{i+1}\"\n",
    "    for j in range(FIRST_FOLDER_FILES if i == 0 else OTHER_FOLDERS_FILES):\n",
    "        with open(f\"{folder}/{folder}_file{j+1}.txt\", \"w\") as file:\n",
    "            file.write(f\"This is file {j+1} in folder {i+1}\")\n",
    "    print(f\"Generated {FIRST_FOLDER_FILES if i == 0 else OTHER_FOLDERS_FILES} files in {folder}\")"
   ]
  },
  {
   "cell_type": "markdown",
   "metadata": {},
   "source": [
    "### Activating service components"
   ]
  },
  {
   "cell_type": "code",
   "execution_count": 5,
   "metadata": {},
   "outputs": [],
   "source": [
    "# Initiating AzureOpenAI client\n",
    "client = AzureOpenAI(\n",
    "    azure_endpoint = AOAI_API_BASE,\n",
    "    api_version = AOAI_API_VERSION,\n",
    "    api_key = AOAI_API_KEY\n",
    ")"
   ]
  },
  {
   "cell_type": "code",
   "execution_count": 6,
   "metadata": {},
   "outputs": [],
   "source": [
    "# Creating a new vector store\n",
    "vector_store = client.beta.vector_stores.create(\n",
    "    name = \"My 10K Vector Store\",\n",
    ")"
   ]
  },
  {
   "cell_type": "markdown",
   "metadata": {},
   "source": [
    "### Populating vector store"
   ]
  },
  {
   "cell_type": "code",
   "execution_count": 7,
   "metadata": {},
   "outputs": [
    {
     "name": "stdout",
     "output_type": "stream",
     "text": [
      "Uploading files to the vector store from folder1...\n",
      "Files upload status: completed\n",
      "- cancelled: 0\n",
      "- completed: 100\n",
      "- failed: 0\n",
      "- in progress: 0\n",
      "----------------------------------------\n",
      "Total: 100\n",
      "\n",
      "Uploading files to the vector store from folder2...\n",
      "Files upload status: completed\n",
      "- cancelled: 0\n",
      "- completed: 499\n",
      "- failed: 1\n",
      "- in progress: 0\n",
      "----------------------------------------\n",
      "Total: 500\n",
      "\n",
      "Uploading files to the vector store from folder3...\n",
      "Files upload status: completed\n",
      "- cancelled: 0\n",
      "- completed: 500\n",
      "- failed: 0\n",
      "- in progress: 0\n",
      "----------------------------------------\n",
      "Total: 500\n",
      "\n"
     ]
    }
   ],
   "source": [
    "# Uploading files to the vector store from each folder in batches\n",
    "for i in range(NUMBER_OF_FOLDERS):\n",
    "    folder = f\"folder{i+1}\"\n",
    "    file_streams = [open(f\"{folder}/{file}\", \"rb\") for file in os.listdir(folder)]\n",
    "    \n",
    "    print(f\"Uploading files to the vector store from {folder}...\")\n",
    "    time.sleep(5)\n",
    "    file_batch = client.beta.vector_stores.file_batches.upload_and_poll(\n",
    "        vector_store_id = vector_store.id,\n",
    "        files = file_streams\n",
    "    )\n",
    "\n",
    "    # Pause if the vector store is not ready\n",
    "    while vector_store.status != \"completed\":\n",
    "        time.sleep(5) \n",
    "\n",
    "    print(f\"Files upload status: {file_batch.status}\")\n",
    "    print(f\"- cancelled: {file_batch.file_counts.cancelled}\")\n",
    "    print(f\"- completed: {file_batch.file_counts.completed}\")\n",
    "    print(f\"- failed: {file_batch.file_counts.failed}\")\n",
    "    print(f\"- in progress: {file_batch.file_counts.in_progress}\")\n",
    "    print(\"----------------------------------------\")\n",
    "    print(f\"Total: {file_batch.file_counts.total}\\n\")"
   ]
  }
 ],
 "metadata": {
  "kernelspec": {
   "display_name": "Python 3",
   "language": "python",
   "name": "python3"
  },
  "language_info": {
   "codemirror_mode": {
    "name": "ipython",
    "version": 3
   },
   "file_extension": ".py",
   "mimetype": "text/x-python",
   "name": "python",
   "nbconvert_exporter": "python",
   "pygments_lexer": "ipython3",
   "version": "3.11.9"
  }
 },
 "nbformat": 4,
 "nbformat_minor": 2
}
